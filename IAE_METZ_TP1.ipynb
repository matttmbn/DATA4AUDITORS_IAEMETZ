{
  "nbformat": 4,
  "nbformat_minor": 0,
  "metadata": {
    "colab": {
      "provenance": [],
      "authorship_tag": "ABX9TyMB2YWgV1CBg6VF+VRoVGJ/",
      "include_colab_link": true
    },
    "kernelspec": {
      "name": "python3",
      "display_name": "Python 3"
    },
    "language_info": {
      "name": "python"
    }
  },
  "cells": [
    {
      "cell_type": "markdown",
      "metadata": {
        "id": "view-in-github",
        "colab_type": "text"
      },
      "source": [
        "<a href=\"https://colab.research.google.com/github/matttmbn/DATA4AUDITORS_IAEMETZ/blob/main/IAE_METZ_TP1.ipynb\" target=\"_parent\"><img src=\"https://colab.research.google.com/assets/colab-badge.svg\" alt=\"Open In Colab\"/></a>"
      ]
    },
    {
      "cell_type": "code",
      "execution_count": null,
      "metadata": {
        "colab": {
          "base_uri": "https://localhost:8080/"
        },
        "id": "-hBU9ICVr6QB",
        "outputId": "2d604a1f-8c1e-447d-a2d7-62d2bf36fab3"
      },
      "outputs": [
        {
          "output_type": "stream",
          "name": "stdout",
          "text": [
            "Hello World\n"
          ]
        }
      ],
      "source": [
        "# Introductin à Python\n",
        "\n",
        "print(\"Hello World\")"
      ]
    },
    {
      "cell_type": "markdown",
      "source": [
        "# Simple Examples\n",
        "Nous allons voir les bases de Python ensemble"
      ],
      "metadata": {
        "id": "F3d9tBjOtSmX"
      }
    },
    {
      "cell_type": "code",
      "source": [
        "# On va définir des variables\n",
        "prenom=\"Matt\" # est du texte, c'est donc un STRING\n",
        "salaire_de_stage=1711 # INTEGER donc c'est un entier naturel\n",
        "salaire_net=1680.95 # FLOAT ce sont les chiffres à virgule\n",
        "\n",
        "print(f\"Je m'appelle {prenom}  et je gagnerai {salaire_de_stage}\")\n"
      ],
      "metadata": {
        "colab": {
          "base_uri": "https://localhost:8080/"
        },
        "id": "PpBDjYe0tCKN",
        "outputId": "12e1ad6f-f404-4c8d-c9d3-d707037931f8"
      },
      "execution_count": 1,
      "outputs": [
        {
          "output_type": "stream",
          "name": "stdout",
          "text": [
            "Je m'appelle Matt et je gagnerai 1711\n"
          ]
        }
      ]
    },
    {
      "cell_type": "code",
      "source": [
        "# ARITHMETIC +++\n",
        "debit1=157000\n",
        "debit2=1711\n",
        "credit=157000\n",
        "debit1+debit2\n"
      ],
      "metadata": {
        "colab": {
          "base_uri": "https://localhost:8080/"
        },
        "id": "wYhjEw4-w75H",
        "outputId": "850aeee7-50d3-4b65-ea61-cd3977492540"
      },
      "execution_count": null,
      "outputs": [
        {
          "output_type": "execute_result",
          "data": {
            "text/plain": [
              "158711"
            ]
          },
          "metadata": {},
          "execution_count": 12
        }
      ]
    },
    {
      "cell_type": "code",
      "source": [
        "debit1,debit2"
      ],
      "metadata": {
        "colab": {
          "base_uri": "https://localhost:8080/"
        },
        "id": "fOrHB86KxZch",
        "outputId": "3a420ba7-6600-4097-ed99-4678e1309d6b"
      },
      "execution_count": null,
      "outputs": [
        {
          "output_type": "execute_result",
          "data": {
            "text/plain": [
              "(157000, 1711)"
            ]
          },
          "metadata": {},
          "execution_count": 13
        }
      ]
    },
    {
      "cell_type": "code",
      "source": [
        "a=debit1\n",
        "b=debit2\n",
        "print(f\"SUM:{a+b}, DELTA:{a-b}, PRODUIT:{a*b},DIVISION:{a/b}\")"
      ],
      "metadata": {
        "colab": {
          "base_uri": "https://localhost:8080/"
        },
        "id": "B8BTJ3Xmxclx",
        "outputId": "e01f6f4e-e101-40f9-aba4-0d02506c340e"
      },
      "execution_count": null,
      "outputs": [
        {
          "output_type": "stream",
          "name": "stdout",
          "text": [
            "SUM:158711, DELTA:155289, PRODUIT:268627000,DIVISION:91.75920514319111\n"
          ]
        }
      ]
    },
    {
      "cell_type": "code",
      "source": [
        "print(f\"Division Integer:{a//b}\")"
      ],
      "metadata": {
        "colab": {
          "base_uri": "https://localhost:8080/"
        },
        "id": "RSFr_iLeyHiw",
        "outputId": "25ea9257-de5a-4b67-f8be-35a8ab893394"
      },
      "execution_count": null,
      "outputs": [
        {
          "output_type": "stream",
          "name": "stdout",
          "text": [
            "Division Integer:91\n"
          ]
        }
      ]
    },
    {
      "cell_type": "code",
      "source": [
        "# LIST\n",
        "banks=[\"BDL\",\"BGL\",\"BNP\",\"BIL\"]\n",
        "banks[2]"
      ],
      "metadata": {
        "colab": {
          "base_uri": "https://localhost:8080/",
          "height": 35
        },
        "id": "t4k7o3dXyhM6",
        "outputId": "cc02e3e2-f187-4b83-92a3-26dc7a455472"
      },
      "execution_count": null,
      "outputs": [
        {
          "output_type": "execute_result",
          "data": {
            "text/plain": [
              "'BNP'"
            ],
            "application/vnd.google.colaboratory.intrinsic+json": {
              "type": "string"
            }
          },
          "metadata": {},
          "execution_count": 18
        }
      ]
    },
    {
      "cell_type": "code",
      "source": [
        "# DICTIONNAIRE\n",
        "# Non-ordonné et PAIRES CLÉS ()\n",
        "valorisation={\"nom\":\"NIKE\",\"actif\":37,\"passif\":34}\n",
        "print(f\"La valorisation de {valorisation['nom']} est avec un actif\")\n",
        "\n"
      ],
      "metadata": {
        "colab": {
          "base_uri": "https://localhost:8080/"
        },
        "id": "_7CWyNDAy-9K",
        "outputId": "a7ea7b52-f008-482e-cd5e-9e374d0917bc"
      },
      "execution_count": null,
      "outputs": [
        {
          "output_type": "stream",
          "name": "stdout",
          "text": [
            "La valorisation de NIKE est avec un actif\n"
          ]
        }
      ]
    },
    {
      "cell_type": "markdown",
      "source": [
        "#Exemples pour les auditeurs\n",
        "\n",
        "##Etude de cas pour l'audit de ma société"
      ],
      "metadata": {
        "id": "IQPvbmvZ7DAj"
      }
    },
    {
      "cell_type": "code",
      "source": [
        "# Cellule des variables\n",
        "revenus=100000\n",
        "depenses=75000\n",
        "taux_imposition_francais=0.25\n",
        "taux_imposition_luxembourgeois=0.17\n",
        "taux_imposition_irelande=0.125\n"
      ],
      "metadata": {
        "id": "J_0vRmAX7I_C"
      },
      "execution_count": 13,
      "outputs": []
    },
    {
      "cell_type": "code",
      "source": [
        "# Cellule des calculs\n",
        "benefice=revenus-depenses\n",
        "impot_en_france=benefice*taux_imposition_francais\n",
        "impot_au_luxembourg=benefice*taux_imposition_luxembourgeois\n",
        "impot_en_irelande=benefice*taux_imposition_irelande\n",
        "benefice_net_fr=benefice-impot_en_france\n"
      ],
      "metadata": {
        "id": "GPeAZawX8IVQ"
      },
      "execution_count": 6,
      "outputs": []
    },
    {
      "cell_type": "code",
      "source": [
        "# Cellule des checks/prints : calcul en direct\n",
        "print(\"Impôt à payer en France\", taux_imposition_francais*benefice,\"€\")"
      ],
      "metadata": {
        "colab": {
          "base_uri": "https://localhost:8080/"
        },
        "id": "ci1CpWWbQnkw",
        "outputId": "bf0ef587-e08c-4033-8319-7a5204e66235"
      },
      "execution_count": 8,
      "outputs": [
        {
          "output_type": "stream",
          "name": "stdout",
          "text": [
            "Impôt à payer en France 6750.0 €\n"
          ]
        }
      ]
    },
    {
      "cell_type": "code",
      "source": [
        "# Cellule des checks/prints : calcul préparé en amont\n",
        "print(\"Impôt à payer en France\", impot_en_france,\"€\")"
      ],
      "metadata": {
        "colab": {
          "base_uri": "https://localhost:8080/"
        },
        "id": "QQlYFZz9RCzi",
        "outputId": "f34fea68-ab1a-4a4b-edfc-728d270ec23a"
      },
      "execution_count": 10,
      "outputs": [
        {
          "output_type": "stream",
          "name": "stdout",
          "text": [
            "Impôt à payer en France 6750.0 €\n"
          ]
        }
      ]
    },
    {
      "cell_type": "code",
      "source": [
        "#Comparaison avec l'Irlande et le Luxembourg\n",
        "print(\"On compare au Luxembourg\",taux_imposition_luxembourgeois*benefice,\"€\",\"vs en Irelande\", taux_imposition_irelande*benefice,\"€\")"
      ],
      "metadata": {
        "colab": {
          "base_uri": "https://localhost:8080/"
        },
        "id": "NumGAmklSaBW",
        "outputId": "16fad10c-5bc7-41ea-9f6b-8ad898669209"
      },
      "execution_count": 11,
      "outputs": [
        {
          "output_type": "stream",
          "name": "stdout",
          "text": [
            "On compare au Luxembourg 4250.0 € vs en Irelande 3125.0 €\n"
          ]
        }
      ]
    },
    {
      "cell_type": "code",
      "source": [
        "impot_en_france-impot_au_luxembourg"
      ],
      "metadata": {
        "colab": {
          "base_uri": "https://localhost:8080/"
        },
        "id": "uYq7BxbgUeGc",
        "outputId": "89df85fb-8d8f-4a99-b1e8-f815f0875b61"
      },
      "execution_count": 12,
      "outputs": [
        {
          "output_type": "execute_result",
          "data": {
            "text/plain": [
              "2500.0"
            ]
          },
          "metadata": {},
          "execution_count": 12
        }
      ]
    },
    {
      "cell_type": "markdown",
      "source": [
        "#Structures de contrôle\n"
      ],
      "metadata": {
        "id": "sBIdq-VlUzOd"
      }
    },
    {
      "cell_type": "code",
      "source": [
        "# CONDITIONS (if,elif,else)\n",
        "\n",
        "if benefice_net_fr>0:\n",
        "  print(\"L'entreprise réalise un bénéfice net. Un benef de\",benefice_net_fr,\"€\")\n",
        "elif benefice_net_fr==0:\n",
        "  print(\"L'entreprise est à l'équilibre\")\n",
        "else:\n",
        "  print(\"L'entreprise réalise une perte nette\")"
      ],
      "metadata": {
        "colab": {
          "base_uri": "https://localhost:8080/"
        },
        "id": "mlvWqnEaU28E",
        "outputId": "cad28ddc-d040-4b2f-a99a-d0d4db4e77ff"
      },
      "execution_count": 14,
      "outputs": [
        {
          "output_type": "stream",
          "name": "stdout",
          "text": [
            "L'entreprise réalise un bénéfice net. Un benef de 18250.0 €\n"
          ]
        }
      ]
    },
    {
      "cell_type": "markdown",
      "source": [
        "#IMPORTATION DES BIBLIOTHEQUES\n",
        "\n",
        "Les packages se différencient en 2 grandes catégories.\n",
        "1) Ceux \"outils\" : contenant des fonctions\n",
        "2) Ceux \"de données\" : contenant des données / valeurs"
      ],
      "metadata": {
        "id": "qKwxnjFJVpNl"
      }
    },
    {
      "cell_type": "code",
      "source": [
        "# Le package d'outils le plus répandu en python est PANDAS (ou POLARS)\n",
        "import pandas as pd"
      ],
      "metadata": {
        "id": "sc8yieYjV_Pp"
      },
      "execution_count": 15,
      "outputs": []
    },
    {
      "cell_type": "code",
      "source": [
        "# Le package \"données\" le plus répandu en Python x Finance est...YAHOO!Finance\n",
        "import yfinance as yf"
      ],
      "metadata": {
        "id": "Din6Z55rWM1Y"
      },
      "execution_count": 16,
      "outputs": []
    },
    {
      "cell_type": "code",
      "source": [
        "# BLOCK : IMPORTATION DES PACKAGES\n",
        "import yfinance as yf\n",
        "import pandas as pd\n",
        "import matplotlib.pyplot as plt\n",
        "# dans les packages \"outils\" vous pouvez SOUS SELECTIONNER LE CHAPITRE"
      ],
      "metadata": {
        "id": "ra49w-RDWei2"
      },
      "execution_count": 17,
      "outputs": []
    },
    {
      "cell_type": "code",
      "source": [
        "# BLOCK : VARIABLES\n",
        "# Pour une comparaison d'indices selon les pays\n",
        "france_symbol='EWQ' #iShares MSCI France ETF\n",
        "ireland_symbol='EWK' #iShares MSCI Ireland ETF\n",
        "luxembourg_symbol='SPY' #S&P 500 son ETF"
      ],
      "metadata": {
        "id": "LrzyMqrfW77q"
      },
      "execution_count": 18,
      "outputs": []
    },
    {
      "cell_type": "code",
      "source": [
        "# BLOCK : TIME FRAME\n",
        "start_date='2010-01-01'\n",
        "end_date='2025-01-01'"
      ],
      "metadata": {
        "id": "fOkf4DJfZZlf"
      },
      "execution_count": 21,
      "outputs": []
    },
    {
      "cell_type": "code",
      "source": [
        "# Téléchargement des données historiques de YFINANCE pour chaque pays\n",
        "france_data=yf.download(france_symbol,start=start_date,end=end_date)\n",
        "irelande_data=yf.download(ireland_symbol,start=start_date,end=end_date)\n",
        "lux_data=yf.download(luxembourg_symbol,start=start_date,end=end_date)"
      ],
      "metadata": {
        "colab": {
          "base_uri": "https://localhost:8080/"
        },
        "id": "F11u0lwSZlTa",
        "outputId": "25ddefc7-b127-4f0d-db11-45223f665c0b"
      },
      "execution_count": 22,
      "outputs": [
        {
          "output_type": "stream",
          "name": "stderr",
          "text": [
            "[*********************100%***********************]  1 of 1 completed\n",
            "[*********************100%***********************]  1 of 1 completed\n",
            "[*********************100%***********************]  1 of 1 completed\n"
          ]
        }
      ]
    },
    {
      "cell_type": "code",
      "source": [
        "print(france_data)"
      ],
      "metadata": {
        "colab": {
          "base_uri": "https://localhost:8080/"
        },
        "id": "YzCySo8XZ_Sw",
        "outputId": "cd510399-dc83-4b47-e4c0-e4882323039d"
      },
      "execution_count": 23,
      "outputs": [
        {
          "output_type": "stream",
          "name": "stdout",
          "text": [
            "Price           Close       High        Low       Open  Volume\n",
            "Ticker            EWQ        EWQ        EWQ        EWQ     EWQ\n",
            "Date                                                          \n",
            "2010-01-04  17.787548  17.827415  17.641366  17.641366   97400\n",
            "2010-01-05  17.741041  17.867287  17.674595  17.847354  164100\n",
            "2010-01-06  17.834064  17.840709  17.687884  17.734396  117300\n",
            "2010-01-07  17.754326  17.787550  17.634724  17.648013   87500\n",
            "2010-01-08  18.000175  18.006820  17.760970  17.787549  155400\n",
            "...               ...        ...        ...        ...     ...\n",
            "2024-12-24  35.970001  36.009998  35.619999  35.730000  187100\n",
            "2024-12-26  36.119999  36.200001  35.939999  35.959999  216600\n",
            "2024-12-27  36.060001  36.139999  35.900002  35.959999  758900\n",
            "2024-12-30  35.810001  35.910000  35.650002  35.900002  361400\n",
            "2024-12-31  35.880001  36.169998  35.799999  36.169998  401800\n",
            "\n",
            "[3774 rows x 5 columns]\n"
          ]
        }
      ]
    },
    {
      "cell_type": "code",
      "source": [
        "# BLOCK : ANALYSE DES DATAFRAMES (EDA)\n",
        "# Il y a des jours fériés donc il y a des valeurs nulles\n",
        "france_data.isnull().sum()\n",
        "# DATA_FRAME . FUNCTION_NAME()"
      ],
      "metadata": {
        "colab": {
          "base_uri": "https://localhost:8080/",
          "height": 272
        },
        "id": "asa6aaT_a4SJ",
        "outputId": "f9d35230-dfbb-4fcf-ab89-631886f1e2b3"
      },
      "execution_count": 24,
      "outputs": [
        {
          "output_type": "execute_result",
          "data": {
            "text/plain": [
              "Price   Ticker\n",
              "Close   EWQ       0\n",
              "High    EWQ       0\n",
              "Low     EWQ       0\n",
              "Open    EWQ       0\n",
              "Volume  EWQ       0\n",
              "dtype: int64"
            ],
            "text/html": [
              "<div>\n",
              "<style scoped>\n",
              "    .dataframe tbody tr th:only-of-type {\n",
              "        vertical-align: middle;\n",
              "    }\n",
              "\n",
              "    .dataframe tbody tr th {\n",
              "        vertical-align: top;\n",
              "    }\n",
              "\n",
              "    .dataframe thead th {\n",
              "        text-align: right;\n",
              "    }\n",
              "</style>\n",
              "<table border=\"1\" class=\"dataframe\">\n",
              "  <thead>\n",
              "    <tr style=\"text-align: right;\">\n",
              "      <th></th>\n",
              "      <th></th>\n",
              "      <th>0</th>\n",
              "    </tr>\n",
              "    <tr>\n",
              "      <th>Price</th>\n",
              "      <th>Ticker</th>\n",
              "      <th></th>\n",
              "    </tr>\n",
              "  </thead>\n",
              "  <tbody>\n",
              "    <tr>\n",
              "      <th>Close</th>\n",
              "      <th>EWQ</th>\n",
              "      <td>0</td>\n",
              "    </tr>\n",
              "    <tr>\n",
              "      <th>High</th>\n",
              "      <th>EWQ</th>\n",
              "      <td>0</td>\n",
              "    </tr>\n",
              "    <tr>\n",
              "      <th>Low</th>\n",
              "      <th>EWQ</th>\n",
              "      <td>0</td>\n",
              "    </tr>\n",
              "    <tr>\n",
              "      <th>Open</th>\n",
              "      <th>EWQ</th>\n",
              "      <td>0</td>\n",
              "    </tr>\n",
              "    <tr>\n",
              "      <th>Volume</th>\n",
              "      <th>EWQ</th>\n",
              "      <td>0</td>\n",
              "    </tr>\n",
              "  </tbody>\n",
              "</table>\n",
              "</div><br><label><b>dtype:</b> int64</label>"
            ]
          },
          "metadata": {},
          "execution_count": 24
        }
      ]
    },
    {
      "cell_type": "code",
      "source": [
        "# Calcul des rendements quotidiens pour chacun des fonds\n",
        "lux_return=lux_data.pct_change().dropna()\n",
        "irelande_return=irelande_data.pct_change().dropna()\n",
        "france_return=france_data.pct_change().dropna()"
      ],
      "metadata": {
        "id": "3II5iUaubcqy"
      },
      "execution_count": 25,
      "outputs": []
    },
    {
      "cell_type": "code",
      "source": [
        "# Calcul de la rentabilité cumulée des fonds sur une période\n",
        "lux_cumulative_return=(1+lux_return).cumprod()-1\n",
        "irelande_cumulative_return=(1+irelande_return).cumprod()-1\n",
        "france_cumulative_return=(1+france_return).cumprod()-1"
      ],
      "metadata": {
        "id": "OcfrJY91eAPd"
      },
      "execution_count": 27,
      "outputs": []
    },
    {
      "cell_type": "code",
      "source": [
        "# BLOCK : GRAPHIQUES\n",
        "# Présentation à des investisseurs des rendements via un dataframe\n",
        "print(lux_data.head())\n",
        "print(france_data.head())\n",
        "print(irelande_data.head())"
      ],
      "metadata": {
        "colab": {
          "base_uri": "https://localhost:8080/"
        },
        "id": "urjqtvMfecSL",
        "outputId": "4b014ebf-4bc1-4342-a342-94ecba442818"
      },
      "execution_count": 28,
      "outputs": [
        {
          "output_type": "stream",
          "name": "stdout",
          "text": [
            "Price           Close       High        Low       Open     Volume\n",
            "Ticker            SPY        SPY        SPY        SPY        SPY\n",
            "Date                                                             \n",
            "2010-01-04  86.026428  86.071971  84.644905  85.297713  118944600\n",
            "2010-01-05  86.254189  86.292145  85.662108  85.973333  111579900\n",
            "2010-01-06  86.314911  86.527452  86.102370  86.170684  116074400\n",
            "2010-01-07  86.679268  86.785539  85.912596  86.155501  131091100\n",
            "2010-01-08  86.967705  87.005661  86.276946  86.451531  126402800\n",
            "Price           Close       High        Low       Open  Volume\n",
            "Ticker            EWQ        EWQ        EWQ        EWQ     EWQ\n",
            "Date                                                          \n",
            "2010-01-04  17.787548  17.827415  17.641366  17.641366   97400\n",
            "2010-01-05  17.741041  17.867287  17.674595  17.847354  164100\n",
            "2010-01-06  17.834064  17.840709  17.687884  17.734396  117300\n",
            "2010-01-07  17.754326  17.787550  17.634724  17.648013   87500\n",
            "2010-01-08  18.000175  18.006820  17.760970  17.787549  155400\n",
            "Price          Close      High       Low      Open  Volume\n",
            "Ticker           EWK       EWK       EWK       EWK     EWK\n",
            "Date                                                      \n",
            "2010-01-04  8.644100  8.729103  8.572175  8.572175  329400\n",
            "2010-01-05  8.748717  8.781411  8.683331  8.729102  451600\n",
            "2010-01-06  8.801027  8.801027  8.689870  8.689870   71800\n",
            "2010-01-07  8.742178  8.761794  8.696408  8.742178   46000\n",
            "2010-01-08  8.781409  8.801025  8.696407  8.696407  391700\n"
          ]
        }
      ]
    }
  ]
}